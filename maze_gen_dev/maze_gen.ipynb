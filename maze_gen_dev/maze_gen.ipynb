{
 "cells": [
  {
   "cell_type": "code",
   "execution_count": 21,
   "metadata": {},
   "outputs": [],
   "source": [
    "import random\n",
    "from disjoint_rank import *"
   ]
  },
  {
   "cell_type": "code",
   "execution_count": 22,
   "metadata": {},
   "outputs": [
    {
     "data": {
      "text/plain": [
       "[['1', '0', '1', '0', '1', '0', '1', '0', '1'],\n",
       " ['0', '0', '0', '0', '0', '0', '0', '0', '0'],\n",
       " ['1', '0', '1', '0', '1', '0', '1', '0', '1'],\n",
       " ['0', '0', '0', '0', '0', '0', '0', '0', '0'],\n",
       " ['1', '0', '1', '0', '1', '0', '1', '0', '1'],\n",
       " ['0', '0', '0', '0', '0', '0', '0', '0', '0'],\n",
       " ['1', '0', '1', '0', '1', '0', '1', '0', '1'],\n",
       " ['0', '0', '0', '0', '0', '0', '0', '0', '0'],\n",
       " ['1', '0', '1', '0', '1', '0', '1', '0', '1']]"
      ]
     },
     "execution_count": 22,
     "metadata": {},
     "output_type": "execute_result"
    }
   ],
   "source": [
    "maze = []\n",
    "r = 5\n",
    "c = 5\n",
    "\n",
    "# Initialize the maze\n",
    "row = ['1']*(r*2-1)\n",
    "col = [row]*(c*2-1)\n",
    "maze = col\n",
    "\n",
    "for i in range(len(maze)):\n",
    "    if i%2 == 1:\n",
    "        maze[i] = ['0' for val in maze[i]]\n",
    "    else:\n",
    "        for j in range(len(maze[i])):\n",
    "            if j%2 == 1:\n",
    "                maze[i][j] = '0'\n",
    "\n",
    "maze"
   ]
  },
  {
   "cell_type": "code",
   "execution_count": 23,
   "metadata": {},
   "outputs": [],
   "source": [
    "walls = []\n",
    "d = DisjointSetByRankWPC(r*c)\n",
    "\n",
    "for row in range(r-1):\n",
    "    for col in range(c):\n",
    "        c1 = row*c + col\n",
    "        walls.append(c1)\n",
    "        \n",
    "for row in range(r):\n",
    "    for col in range(c-1):\n",
    "        c1 = (row*c + col) + r*c\n",
    "        walls.append(c1)"
   ]
  },
  {
   "cell_type": "code",
   "execution_count": 24,
   "metadata": {},
   "outputs": [
    {
     "name": "stdout",
     "output_type": "stream",
     "text": [
      "V\n",
      "V\n",
      "H\n",
      "H\n",
      "V\n",
      "V\n",
      "H\n",
      "H\n",
      "V\n",
      "H\n",
      "H\n",
      "V\n",
      "V\n",
      "V\n",
      "H\n",
      "V\n",
      "H\n",
      "H\n",
      "H\n",
      "H\n",
      "H\n",
      "H\n",
      "V\n",
      "H\n"
     ]
    }
   ],
   "source": [
    "ncomp = r*c;\n",
    "count = 0\n",
    "while ncomp > 1:\n",
    "    count += 1\n",
    "    if count == r*c: \n",
    "        break\n",
    "    c1 = random.choice(walls)\n",
    "    tmp = c1\n",
    "    if (c1 < r*c):\n",
    "        print('V')\n",
    "        c2 = c1 + c\n",
    "        row1 = int(c1 / c);\n",
    "        column1 = c1 % c;\n",
    "        maze_row = 2 * row1 + 1;\n",
    "        maze_colume = 2 * column1;\n",
    "    else:\n",
    "        print('H')\n",
    "        c1 = c1 - r*c\n",
    "        c2 = c1 + 1\n",
    "        row1 = int(c1 / c);\n",
    "        column1 = c1 % c;\n",
    "        maze_row = 2 * row1;\n",
    "        maze_colume = 2 * column1 + 1;\n",
    "    \n",
    "    s1 = d.Find(c1)\n",
    "    s2 = d.Find(c2)\n",
    "    if s1 != s2:\n",
    "        d.Union(s1, s2)\n",
    "        walls.remove(tmp)\n",
    "        #print(int(maze_row), int(maze_colume))\n",
    "        maze[maze_row][maze_colume] = '1';\n",
    "        ncomp = ncomp - 1\n",
    "    else:\n",
    "        continue"
   ]
  },
  {
   "cell_type": "code",
   "execution_count": 25,
   "metadata": {},
   "outputs": [
    {
     "data": {
      "text/plain": [
       "[['1', '1', '1', '1', '1', '1', '1', '1', '1'],\n",
       " ['0', '0', '0', '0', '1', '0', '1', '0', '0'],\n",
       " ['1', '1', '1', '1', '1', '1', '1', '1', '1'],\n",
       " ['1', '0', '1', '0', '0', '0', '1', '0', '1'],\n",
       " ['1', '1', '1', '1', '1', '1', '1', '1', '1'],\n",
       " ['0', '0', '0', '0', '0', '0', '0', '0', '0'],\n",
       " ['1', '1', '1', '1', '1', '1', '1', '1', '1'],\n",
       " ['1', '0', '0', '0', '1', '0', '0', '0', '1'],\n",
       " ['1', '1', '1', '1', '1', '1', '1', '1', '1']]"
      ]
     },
     "execution_count": 25,
     "metadata": {},
     "output_type": "execute_result"
    }
   ],
   "source": [
    "maze"
   ]
  },
  {
   "cell_type": "code",
   "execution_count": 6,
   "metadata": {},
   "outputs": [],
   "source": [
    "maze.insert(0, ['0']*len(maze[0]))\n",
    "maze.append(['0']*len(maze[0]))"
   ]
  },
  {
   "cell_type": "code",
   "execution_count": 7,
   "metadata": {},
   "outputs": [],
   "source": [
    "for i in range(len(maze)):\n",
    "    temp = maze[i][:]\n",
    "    temp.insert(0, '0')\n",
    "    temp.append('0')\n",
    "    maze[i] = temp"
   ]
  },
  {
   "cell_type": "code",
   "execution_count": 8,
   "metadata": {},
   "outputs": [
    {
     "data": {
      "text/plain": [
       "[['0', '0', '0', '0', '0', '0', '0', '0', '0', '0', '0'],\n",
       " ['1', '1', '1', '1', '1', '1', '0', '1', '1', '1', '0'],\n",
       " ['0', '1', '0', '1', '0', '0', '0', '0', '0', '0', '0'],\n",
       " ['0', '1', '1', '1', '1', '1', '0', '1', '1', '1', '0'],\n",
       " ['0', '0', '0', '1', '0', '0', '0', '1', '0', '0', '0'],\n",
       " ['0', '1', '1', '1', '1', '1', '0', '1', '1', '1', '0'],\n",
       " ['0', '1', '0', '1', '0', '1', '0', '0', '0', '1', '0'],\n",
       " ['0', '1', '1', '1', '1', '1', '0', '1', '1', '1', '0'],\n",
       " ['0', '1', '0', '0', '0', '1', '0', '1', '0', '1', '0'],\n",
       " ['0', '1', '1', '1', '1', '1', '0', '1', '1', '1', '1'],\n",
       " ['0', '0', '0', '0', '0', '0', '0', '0', '0', '0', '0']]"
      ]
     },
     "execution_count": 8,
     "metadata": {},
     "output_type": "execute_result"
    }
   ],
   "source": [
    "maze[1][0] = '1'\n",
    "maze[-2][-1] = '1'\n",
    "maze"
   ]
  },
  {
   "cell_type": "code",
   "execution_count": 9,
   "metadata": {},
   "outputs": [],
   "source": [
    "from maze_gen import *"
   ]
  },
  {
   "cell_type": "code",
   "execution_count": 18,
   "metadata": {},
   "outputs": [],
   "source": [
    "maze = maze_gen(7, 7)"
   ]
  },
  {
   "cell_type": "code",
   "execution_count": 19,
   "metadata": {},
   "outputs": [
    {
     "data": {
      "text/plain": [
       "[[0, 0, 0, 0, 0, 0, 0, 0, 0, 0, 0, 0, 0, 0, 0],\n",
       " [1, 1, 1, 1, 1, 1, 1, 1, 1, 1, 1, 1, 1, 1, 0],\n",
       " [0, 0, 0, 1, 0, 1, 0, 0, 0, 1, 0, 0, 0, 1, 0],\n",
       " [0, 1, 1, 1, 1, 1, 1, 1, 1, 1, 1, 1, 1, 1, 0],\n",
       " [0, 0, 0, 1, 0, 0, 0, 0, 0, 0, 0, 1, 0, 0, 0],\n",
       " [0, 1, 1, 1, 1, 1, 1, 1, 1, 1, 1, 1, 1, 1, 0],\n",
       " [0, 0, 0, 1, 0, 0, 0, 0, 0, 1, 0, 0, 0, 1, 0],\n",
       " [0, 1, 1, 1, 1, 1, 1, 1, 1, 1, 1, 1, 1, 1, 0],\n",
       " [0, 1, 0, 0, 0, 1, 0, 1, 0, 0, 0, 0, 0, 1, 0],\n",
       " [0, 1, 1, 1, 1, 1, 1, 1, 1, 1, 1, 1, 1, 1, 0],\n",
       " [0, 0, 0, 0, 0, 1, 0, 0, 0, 1, 0, 1, 0, 1, 0],\n",
       " [0, 1, 1, 1, 1, 1, 1, 1, 1, 1, 1, 1, 1, 1, 0],\n",
       " [0, 1, 0, 0, 0, 1, 0, 1, 0, 0, 0, 0, 0, 1, 0],\n",
       " [0, 1, 1, 1, 1, 1, 1, 1, 1, 1, 1, 1, 1, 1, 1],\n",
       " [0, 0, 0, 0, 0, 0, 0, 0, 0, 0, 0, 0, 0, 0, 0]]"
      ]
     },
     "execution_count": 19,
     "metadata": {},
     "output_type": "execute_result"
    }
   ],
   "source": [
    "maze"
   ]
  },
  {
   "cell_type": "code",
   "execution_count": null,
   "metadata": {},
   "outputs": [],
   "source": [
    "[[0, 0, 0, 0, 0, 0, 0, 0, 0, 0, 0, 0, 0, 0, 0],\n",
    " [1, 1, 1, 1, 1, 1, 1, 1, 1, 1, 1, 1, 1, 1, 0],\n",
    " [0, 0, 0, 1, 0, 1, 0, 0, 0, 1, 0, 0, 0, 1, 0],\n",
    " [0, 1, 1, 1, 1, 1, 1, 1, 1, 1, 1, 1, 1, 1, 0],\n",
    " [0, 0, 0, 1, 0, 0, 0, 0, 0, 0, 0, 1, 0, 0, 0],\n",
    " [0, 1, 1, 1, 1, 1, 1, 1, 1, 1, 1, 1, 1, 1, 0],\n",
    " [0, 0, 0, 1, 0, 0, 0, 0, 0, 1, 0, 0, 0, 1, 0],\n",
    " [0, 1, 1, 1, 1, 1, 1, 1, 1, 1, 1, 1, 1, 1, 0],\n",
    " [0, 1, 0, 0, 0, 1, 0, 1, 0, 0, 0, 0, 0, 1, 0],\n",
    " [0, 1, 1, 1, 1, 1, 1, 1, 1, 1, 1, 1, 1, 1, 0],\n",
    " [0, 0, 0, 0, 0, 1, 0, 0, 0, 1, 0, 1, 0, 1, 0],\n",
    " [0, 1, 1, 1, 1, 1, 1, 1, 1, 1, 1, 1, 1, 1, 0],\n",
    " [0, 1, 0, 0, 0, 1, 0, 1, 0, 0, 0, 0, 0, 1, 0],\n",
    " [0, 1, 1, 1, 1, 1, 1, 1, 1, 1, 1, 1, 1, 1, 1],\n",
    " [0, 0, 0, 0, 0, 0, 0, 0, 0, 0, 0, 0, 0, 0, 0]]"
   ]
  }
 ],
 "metadata": {
  "kernelspec": {
   "display_name": "Python 3",
   "language": "python",
   "name": "python3"
  },
  "language_info": {
   "codemirror_mode": {
    "name": "ipython",
    "version": 3
   },
   "file_extension": ".py",
   "mimetype": "text/x-python",
   "name": "python",
   "nbconvert_exporter": "python",
   "pygments_lexer": "ipython3",
   "version": "3.7.6"
  }
 },
 "nbformat": 4,
 "nbformat_minor": 4
}
