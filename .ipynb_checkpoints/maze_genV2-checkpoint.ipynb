{
 "cells": [
  {
   "cell_type": "code",
   "execution_count": 1,
   "metadata": {},
   "outputs": [],
   "source": [
    "import random\n",
    "from pprint import pprint\n",
    "from disjoint_rank import *"
   ]
  },
  {
   "cell_type": "code",
   "execution_count": 40,
   "metadata": {},
   "outputs": [
    {
     "data": {
      "text/plain": [
       "[[1, 0, 1, 0, 1, 0, 1],\n",
       " [0, 0, 0, 0, 0, 0, 0],\n",
       " [1, 0, 1, 0, 1, 0, 1],\n",
       " [0, 0, 0, 0, 0, 0, 0],\n",
       " [1, 0, 1, 0, 1, 0, 1],\n",
       " [0, 0, 0, 0, 0, 0, 0],\n",
       " [1, 0, 1, 0, 1, 0, 1]]"
      ]
     },
     "execution_count": 40,
     "metadata": {},
     "output_type": "execute_result"
    }
   ],
   "source": [
    "maze = []\n",
    "r = 4\n",
    "c = 4\n",
    "\n",
    "# Initialize the maze\n",
    "temp = [1]*(r*2-1)\n",
    "maze = []\n",
    "for i in range(c*2-1):\n",
    "    maze.append(temp[:])\n",
    "#maze = [maze]*(c*2-1)\n",
    "\n",
    "for i in range(len(maze)):\n",
    "    if i%2 == 1:\n",
    "        maze[i] = [0 for val in maze[i]]\n",
    "    else:\n",
    "        for j in range(len(maze[i])):\n",
    "            if j%2 == 1:\n",
    "                maze[i][j] = 0\n",
    "maze"
   ]
  },
  {
   "cell_type": "code",
   "execution_count": 41,
   "metadata": {},
   "outputs": [
    {
     "data": {
      "text/plain": [
       "[[1, 2, 1, 0, 1, 0, 1],\n",
       " [0, 0, 0, 0, 0, 0, 0],\n",
       " [1, 0, 1, 0, 1, 0, 1],\n",
       " [0, 0, 0, 0, 0, 0, 0],\n",
       " [1, 0, 1, 0, 1, 0, 1],\n",
       " [0, 0, 0, 0, 0, 0, 0],\n",
       " [1, 0, 1, 0, 1, 0, 1]]"
      ]
     },
     "execution_count": 41,
     "metadata": {},
     "output_type": "execute_result"
    }
   ],
   "source": [
    "maze[0][1] = 2\n",
    "maze"
   ]
  },
  {
   "cell_type": "code",
   "execution_count": 42,
   "metadata": {},
   "outputs": [],
   "source": [
    "walls = []\n",
    "d = DisjointSetByRankWPC(r*c)\n",
    "\n",
    "for row in range(r-1):\n",
    "    for col in range(c):\n",
    "        c1 = row*c + col\n",
    "        walls.append(c1)\n",
    "        \n",
    "for row in range(r):\n",
    "    for col in range(c-1):\n",
    "        c1 = (row*c + col) + r*c\n",
    "        walls.append(c1)"
   ]
  },
  {
   "cell_type": "code",
   "execution_count": 43,
   "metadata": {},
   "outputs": [
    {
     "name": "stdout",
     "output_type": "stream",
     "text": [
      "4 5\n",
      "6 5\n",
      "2 1\n",
      "1 4\n",
      "4 3\n",
      "5 6\n",
      "6 3\n",
      "0 1\n",
      "2 5\n",
      "6 1\n",
      "3 2\n",
      "3 6\n",
      "1 0\n",
      "4 1\n",
      "0 5\n"
     ]
    }
   ],
   "source": [
    "ncomp = r*c;\n",
    "count = []\n",
    "while ncomp > 1:\n",
    "    c1 = random.choice(walls)\n",
    "    tmp = c1\n",
    "    if (c1 < r*c):\n",
    "        c2 = c1 + c\n",
    "        row1 = int(c1 / c);\n",
    "        column1 = c1 % c;\n",
    "        maze_row = 2 * row1 + 1;\n",
    "        maze_colume = 2 * column1;\n",
    "    else:\n",
    "        c1 = c1 - r*c\n",
    "        c2 = c1 + 1\n",
    "        row1 = int(c1 / c);\n",
    "        column1 = c1 % c;\n",
    "        maze_row = 2 * row1;\n",
    "        maze_colume = 2 * column1 + 1;\n",
    "    \n",
    "    s1 = d.Find(c1)\n",
    "    s2 = d.Find(c2)\n",
    "    if s1 != s2:\n",
    "        d.Union(s1, s2)\n",
    "        walls.remove(tmp)\n",
    "        maze[maze_row][maze_colume] = 2;\n",
    "        print(maze_row, maze_colume)\n",
    "        ncomp = ncomp - 1\n",
    "        #pprint(maze)\n",
    "        #print()\n",
    "    else:\n",
    "        #print('skip')\n",
    "        continue"
   ]
  },
  {
   "cell_type": "code",
   "execution_count": 44,
   "metadata": {},
   "outputs": [
    {
     "data": {
      "text/plain": [
       "[[1, 2, 1, 0, 1, 2, 1],\n",
       " [2, 0, 0, 0, 2, 0, 0],\n",
       " [1, 2, 1, 0, 1, 2, 1],\n",
       " [0, 0, 2, 0, 0, 0, 2],\n",
       " [1, 2, 1, 2, 1, 2, 1],\n",
       " [0, 0, 0, 0, 0, 0, 2],\n",
       " [1, 2, 1, 2, 1, 2, 1]]"
      ]
     },
     "execution_count": 44,
     "metadata": {},
     "output_type": "execute_result"
    }
   ],
   "source": [
    "maze"
   ]
  },
  {
   "cell_type": "code",
   "execution_count": 39,
   "metadata": {},
   "outputs": [],
   "source": [
    "maze.insert(0, ['0']*len(maze[0]))\n",
    "maze.append(['0']*len(maze[0]))"
   ]
  },
  {
   "cell_type": "code",
   "execution_count": null,
   "metadata": {},
   "outputs": [],
   "source": [
    "for i in range(len(maze)):\n",
    "    temp = maze[i][:]\n",
    "    temp.insert(0, '0')\n",
    "    temp.append('0')\n",
    "    maze[i] = temp"
   ]
  },
  {
   "cell_type": "code",
   "execution_count": null,
   "metadata": {},
   "outputs": [],
   "source": [
    "maze[1][0] = '1'\n",
    "maze[-2][-1] = '1'\n",
    "maze"
   ]
  },
  {
   "cell_type": "code",
   "execution_count": null,
   "metadata": {},
   "outputs": [],
   "source": []
  },
  {
   "cell_type": "code",
   "execution_count": null,
   "metadata": {},
   "outputs": [],
   "source": []
  },
  {
   "cell_type": "code",
   "execution_count": null,
   "metadata": {},
   "outputs": [],
   "source": []
  },
  {
   "cell_type": "code",
   "execution_count": null,
   "metadata": {},
   "outputs": [],
   "source": [
    "from maze_gen import *"
   ]
  },
  {
   "cell_type": "code",
   "execution_count": null,
   "metadata": {},
   "outputs": [],
   "source": [
    "maze = maze_gen(5, 5)"
   ]
  },
  {
   "cell_type": "code",
   "execution_count": null,
   "metadata": {},
   "outputs": [],
   "source": [
    "maze"
   ]
  },
  {
   "cell_type": "code",
   "execution_count": null,
   "metadata": {},
   "outputs": [],
   "source": [
    "000*00000\n",
    "0***0***0\n",
    "000*0*0*0\n",
    "**0***0*0\n",
    "0*00000*0\n",
    "0*0***0*0\n",
    "0*000*000\n",
    "0*0***0*0\n",
    "000*000*0"
   ]
  },
  {
   "cell_type": "code",
   "execution_count": null,
   "metadata": {},
   "outputs": [],
   "source": []
  }
 ],
 "metadata": {
  "kernelspec": {
   "display_name": "Python 3",
   "language": "python",
   "name": "python3"
  },
  "language_info": {
   "codemirror_mode": {
    "name": "ipython",
    "version": 3
   },
   "file_extension": ".py",
   "mimetype": "text/x-python",
   "name": "python",
   "nbconvert_exporter": "python",
   "pygments_lexer": "ipython3",
   "version": "3.7.6"
  }
 },
 "nbformat": 4,
 "nbformat_minor": 4
}
